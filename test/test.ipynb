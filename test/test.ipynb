{
 "cells": [
  {
   "cell_type": "code",
   "execution_count": 1,
   "id": "872192e3",
   "metadata": {},
   "outputs": [
    {
     "name": "stderr",
     "output_type": "stream",
     "text": [
      "c:\\Users\\aiai\\Documents\\Development\\Projects\\chatbot-wwm\\.myenv\\Lib\\site-packages\\tqdm\\auto.py:21: TqdmWarning: IProgress not found. Please update jupyter and ipywidgets. See https://ipywidgets.readthedocs.io/en/stable/user_install.html\n",
      "  from .autonotebook import tqdm as notebook_tqdm\n",
      "c:\\Users\\aiai\\Documents\\Development\\Projects\\chatbot-wwm\\.myenv\\Lib\\site-packages\\huggingface_hub\\file_download.py:143: UserWarning: `huggingface_hub` cache-system uses symlinks by default to efficiently store duplicated files but your machine does not support them in C:\\Users\\aiai\\.cache\\huggingface\\hub\\models--BAAI--bge-m3. Caching files will still work but in a degraded version that might require more space on your disk. This warning can be disabled by setting the `HF_HUB_DISABLE_SYMLINKS_WARNING` environment variable. For more details, see https://huggingface.co/docs/huggingface_hub/how-to-cache#limitations.\n",
      "To support symlinks on Windows, you either need to activate Developer Mode or to run Python as an administrator. In order to activate developer mode, see this article: https://docs.microsoft.com/en-us/windows/apps/get-started/enable-your-device-for-development\n",
      "  warnings.warn(message)\n"
     ]
    },
    {
     "name": "stdout",
     "output_type": "stream",
     "text": [
      "Embedding shape: (2, 1024)\n",
      "Embedding[0] (potongan): [-0.03486624  0.03815862 -0.02902062 -0.04038318 -0.00885335 -0.04963839\n",
      "  0.04336999  0.02483131  0.02192059  0.00061047]\n"
     ]
    }
   ],
   "source": [
    "# install dulu kalau belum\n",
    "# pip install sentence-transformers\n",
    "\n",
    "from sentence_transformers import SentenceTransformer\n",
    "\n",
    "# model BGE-M3\n",
    "model = SentenceTransformer(\"BAAI/bge-m3\")\n",
    "\n",
    "# teks contoh\n",
    "texts = [\n",
    "    \"Ini adalah kalimat uji.\",\n",
    "    \"Bagaimana kabarmu hari ini?\"\n",
    "]\n",
    "\n",
    "# buat embedding\n",
    "embeddings = model.encode(texts)\n",
    "\n",
    "print(\"Embedding shape:\", embeddings.shape)\n",
    "print(\"Embedding[0] (potongan):\", embeddings[0][:10])\n"
   ]
  },
  {
   "cell_type": "code",
   "execution_count": 2,
   "id": "b9c1a534",
   "metadata": {},
   "outputs": [
    {
     "name": "stderr",
     "output_type": "stream",
     "text": [
      "Fetching 30 files: 100%|██████████| 30/30 [07:05<00:00, 14.18s/it]"
     ]
    },
    {
     "name": "stdout",
     "output_type": "stream",
     "text": [
      "Model ada di lokal: True\n",
      "Path lokal: C:\\Users\\aiai\\.cache\\huggingface\\hub\\models--BAAI--bge-m3\\snapshots\\5617a9f61b028005a4858fdac845db406aefb181\n"
     ]
    },
    {
     "name": "stderr",
     "output_type": "stream",
     "text": [
      "\n"
     ]
    }
   ],
   "source": [
    "from huggingface_hub import snapshot_download\n",
    "import os\n",
    "\n",
    "# model id\n",
    "MODEL_NAME = \"BAAI/bge-m3\"\n",
    "\n",
    "# download kalau belum ada, kalau sudah ada akan langsung return path lokal\n",
    "local_path = snapshot_download(repo_id=MODEL_NAME)\n",
    "\n",
    "print(\"Model ada di lokal:\", os.path.exists(local_path))\n",
    "print(\"Path lokal:\", local_path)\n"
   ]
  }
 ],
 "metadata": {
  "kernelspec": {
   "display_name": ".myenv",
   "language": "python",
   "name": "python3"
  },
  "language_info": {
   "codemirror_mode": {
    "name": "ipython",
    "version": 3
   },
   "file_extension": ".py",
   "mimetype": "text/x-python",
   "name": "python",
   "nbconvert_exporter": "python",
   "pygments_lexer": "ipython3",
   "version": "3.12.11"
  }
 },
 "nbformat": 4,
 "nbformat_minor": 5
}
